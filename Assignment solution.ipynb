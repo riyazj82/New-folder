{
 "cells": [
  {
   "cell_type": "code",
   "execution_count": 4,
   "id": "f28b3543",
   "metadata": {},
   "outputs": [],
   "source": [
    "class Student:\n",
    "    scores=[]\n",
    "    def input_scores(self):\n",
    "        self.scores=list(map(int,sum(int(input('Enter a number: ')) for i in range(5)).split(\",\")))\n",
    "    def calculateTotalScore(self): \n",
    "        sum=0\n",
    "        for i in scores:\n",
    "            sum+=i\n",
    "        return sum    "
   ]
  },
  {
   "cell_type": "code",
   "execution_count": 5,
   "id": "19b2b9d5",
   "metadata": {},
   "outputs": [],
   "source": []
  },
  {
   "cell_type": "code",
   "execution_count": null,
   "id": "73053464",
   "metadata": {},
   "outputs": [],
   "source": []
  },
  {
   "cell_type": "code",
   "execution_count": null,
   "id": "011c7728",
   "metadata": {},
   "outputs": [],
   "source": []
  }
 ],
 "metadata": {
  "kernelspec": {
   "display_name": "Python 3 (ipykernel)",
   "language": "python",
   "name": "python3"
  },
  "language_info": {
   "codemirror_mode": {
    "name": "ipython",
    "version": 3
   },
   "file_extension": ".py",
   "mimetype": "text/x-python",
   "name": "python",
   "nbconvert_exporter": "python",
   "pygments_lexer": "ipython3",
   "version": "3.9.13"
  }
 },
 "nbformat": 4,
 "nbformat_minor": 5
}
