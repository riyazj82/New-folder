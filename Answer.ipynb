{
 "cells": [
  {
   "cell_type": "code",
   "execution_count": 3,
   "id": "48b91957",
   "metadata": {},
   "outputs": [],
   "source": [
    "class Student:\n",
    "    def __init__(self,student_name,marks):\n",
    "        self.student_name=student_name\n",
    "        self.marks=marks\n",
    "       \n",
    "    def change_attr(self,new_name,new_marks):\n",
    "        self.oldmarks=self.marks\n",
    "        self.new_marks=int(input(\"Enter new marks\"))\n",
    "        self.oldname=self.student_name\n",
    "        self.new_name=input('Enter new name')\n",
    "        \n",
    "    def show_attr(self):\n",
    "        print('Studentname:',self.oldname)\n",
    "        print('InitialMarks',self.oldmarks)\n",
    "        print('New_name',self.new_name)\n",
    "        print('New marks',self.new_marks)\n",
    "        \n",
    "        \n",
    "        \n",
    "        \n",
    "    "
   ]
  },
  {
   "cell_type": "code",
   "execution_count": 4,
   "id": "8bff4802",
   "metadata": {},
   "outputs": [],
   "source": [
    "A=Student('riyaz',100)"
   ]
  },
  {
   "cell_type": "code",
   "execution_count": null,
   "id": "e2d8cd76",
   "metadata": {},
   "outputs": [],
   "source": []
  },
  {
   "cell_type": "code",
   "execution_count": null,
   "id": "7ee533b1",
   "metadata": {},
   "outputs": [],
   "source": []
  }
 ],
 "metadata": {
  "kernelspec": {
   "display_name": "Python 3 (ipykernel)",
   "language": "python",
   "name": "python3"
  },
  "language_info": {
   "codemirror_mode": {
    "name": "ipython",
    "version": 3
   },
   "file_extension": ".py",
   "mimetype": "text/x-python",
   "name": "python",
   "nbconvert_exporter": "python",
   "pygments_lexer": "ipython3",
   "version": "3.9.13"
  }
 },
 "nbformat": 4,
 "nbformat_minor": 5
}
