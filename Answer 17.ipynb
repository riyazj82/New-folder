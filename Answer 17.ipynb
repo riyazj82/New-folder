{
 "cells": [
  {
   "cell_type": "code",
   "execution_count": 3,
   "id": "4614d751",
   "metadata": {},
   "outputs": [
    {
     "name": "stdout",
     "output_type": "stream",
     "text": [
      "2 4 6 8 10 12 "
     ]
    }
   ],
   "source": [
    "for even_numbers in range(2,13,2):\n",
    "     print(even_numbers,end=' ')"
   ]
  },
  {
   "cell_type": "code",
   "execution_count": null,
   "id": "087705b3",
   "metadata": {},
   "outputs": [],
   "source": []
  }
 ],
 "metadata": {
  "kernelspec": {
   "display_name": "Python 3 (ipykernel)",
   "language": "python",
   "name": "python3"
  },
  "language_info": {
   "codemirror_mode": {
    "name": "ipython",
    "version": 3
   },
   "file_extension": ".py",
   "mimetype": "text/x-python",
   "name": "python",
   "nbconvert_exporter": "python",
   "pygments_lexer": "ipython3",
   "version": "3.9.13"
  }
 },
 "nbformat": 4,
 "nbformat_minor": 5
}
