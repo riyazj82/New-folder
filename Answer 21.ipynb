{
 "cells": [
  {
   "cell_type": "code",
   "execution_count": 8,
   "id": "46610cff",
   "metadata": {},
   "outputs": [
    {
     "name": "stdout",
     "output_type": "stream",
     "text": [
      "   name   age\n",
      "1  samy   NaN\n",
      "2   NaN  30.0\n"
     ]
    }
   ],
   "source": [
    "import pandas as pd\n",
    "d= [{'name': 'riyaz', 'name': 'nikky', 'name': 'samy'},\n",
    "        {'age':10, 'age': 20, 'age': 30}]\n",
    " \n",
    "df = pd.DataFrame.from_records(d,index=['1', '2'])\n",
    "print(df)"
   ]
  },
  {
   "cell_type": "code",
   "execution_count": null,
   "id": "d7ec627e",
   "metadata": {},
   "outputs": [],
   "source": []
  }
 ],
 "metadata": {
  "kernelspec": {
   "display_name": "Python 3 (ipykernel)",
   "language": "python",
   "name": "python3"
  },
  "language_info": {
   "codemirror_mode": {
    "name": "ipython",
    "version": 3
   },
   "file_extension": ".py",
   "mimetype": "text/x-python",
   "name": "python",
   "nbconvert_exporter": "python",
   "pygments_lexer": "ipython3",
   "version": "3.9.13"
  }
 },
 "nbformat": 4,
 "nbformat_minor": 5
}
