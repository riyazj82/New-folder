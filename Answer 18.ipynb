{
 "cells": [
  {
   "cell_type": "code",
   "execution_count": 7,
   "id": "999aad44",
   "metadata": {},
   "outputs": [],
   "source": [
    "import numpy as np\n",
    "arr1= [[3,2], [6,7]]\n",
    "\n",
    "arr2= [[2,5], [7,9]]"
   ]
  },
  {
   "cell_type": "code",
   "execution_count": 8,
   "id": "bc1d0103",
   "metadata": {},
   "outputs": [
    {
     "name": "stdout",
     "output_type": "stream",
     "text": [
      "[20 33]\n",
      "[61 93]\n"
     ]
    }
   ],
   "source": [
    "result= np.dot(arr1,arr2)\n",
    "\n",
    "for a in result:\n",
    "    print(a)"
   ]
  },
  {
   "cell_type": "code",
   "execution_count": null,
   "id": "7794d86e",
   "metadata": {},
   "outputs": [],
   "source": []
  }
 ],
 "metadata": {
  "kernelspec": {
   "display_name": "Python 3 (ipykernel)",
   "language": "python",
   "name": "python3"
  },
  "language_info": {
   "codemirror_mode": {
    "name": "ipython",
    "version": 3
   },
   "file_extension": ".py",
   "mimetype": "text/x-python",
   "name": "python",
   "nbconvert_exporter": "python",
   "pygments_lexer": "ipython3",
   "version": "3.9.13"
  }
 },
 "nbformat": 4,
 "nbformat_minor": 5
}
